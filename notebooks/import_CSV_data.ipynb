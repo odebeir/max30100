{
 "cells": [
  {
   "cell_type": "code",
   "execution_count": 24,
   "metadata": {},
   "outputs": [
    {
     "name": "stdout",
     "output_type": "stream",
     "text": [
      "Populating the interactive namespace from numpy and matplotlib\n"
     ]
    }
   ],
   "source": [
    "import pandas as pd\n",
    "%pylab inline"
   ]
  },
  {
   "cell_type": "code",
   "execution_count": 25,
   "metadata": {},
   "outputs": [
    {
     "data": {
      "text/html": [
       "<div>\n",
       "<style>\n",
       "    .dataframe thead tr:only-child th {\n",
       "        text-align: right;\n",
       "    }\n",
       "\n",
       "    .dataframe thead th {\n",
       "        text-align: left;\n",
       "    }\n",
       "\n",
       "    .dataframe tbody tr th {\n",
       "        vertical-align: top;\n",
       "    }\n",
       "</style>\n",
       "<table border=\"1\" class=\"dataframe\">\n",
       "  <thead>\n",
       "    <tr style=\"text-align: right;\">\n",
       "      <th></th>\n",
       "      <th>temp</th>\n",
       "      <th>bpm</th>\n",
       "      <th>red</th>\n",
       "      <th>adc</th>\n",
       "      <th>med</th>\n",
       "      <th>trig</th>\n",
       "      <th>max</th>\n",
       "      <th>min</th>\n",
       "    </tr>\n",
       "  </thead>\n",
       "  <tbody>\n",
       "    <tr>\n",
       "      <th>1338</th>\n",
       "      <td>33.5625</td>\n",
       "      <td>72.301278</td>\n",
       "      <td>11584</td>\n",
       "      <td>7872</td>\n",
       "      <td>7880</td>\n",
       "      <td>0</td>\n",
       "      <td>7928</td>\n",
       "      <td>7840</td>\n",
       "    </tr>\n",
       "    <tr>\n",
       "      <th>1339</th>\n",
       "      <td>33.4375</td>\n",
       "      <td>72.301278</td>\n",
       "      <td>11376</td>\n",
       "      <td>7880</td>\n",
       "      <td>7880</td>\n",
       "      <td>0</td>\n",
       "      <td>7928</td>\n",
       "      <td>7840</td>\n",
       "    </tr>\n",
       "    <tr>\n",
       "      <th>1340</th>\n",
       "      <td>33.4375</td>\n",
       "      <td>72.301278</td>\n",
       "      <td>11392</td>\n",
       "      <td>7896</td>\n",
       "      <td>7880</td>\n",
       "      <td>0</td>\n",
       "      <td>7928</td>\n",
       "      <td>7840</td>\n",
       "    </tr>\n",
       "    <tr>\n",
       "      <th>1341</th>\n",
       "      <td>33.0000</td>\n",
       "      <td>72.301278</td>\n",
       "      <td>11376</td>\n",
       "      <td>7896</td>\n",
       "      <td>7888</td>\n",
       "      <td>0</td>\n",
       "      <td>7928</td>\n",
       "      <td>7840</td>\n",
       "    </tr>\n",
       "    <tr>\n",
       "      <th>1342</th>\n",
       "      <td>33.0000</td>\n",
       "      <td>72.301278</td>\n",
       "      <td>11368</td>\n",
       "      <td>7904</td>\n",
       "      <td>7896</td>\n",
       "      <td>0</td>\n",
       "      <td>7928</td>\n",
       "      <td>7840</td>\n",
       "    </tr>\n",
       "    <tr>\n",
       "      <th>1343</th>\n",
       "      <td>34.0625</td>\n",
       "      <td>72.301278</td>\n",
       "      <td>11392</td>\n",
       "      <td>7920</td>\n",
       "      <td>7896</td>\n",
       "      <td>0</td>\n",
       "      <td>7928</td>\n",
       "      <td>7840</td>\n",
       "    </tr>\n",
       "    <tr>\n",
       "      <th>1344</th>\n",
       "      <td>34.0625</td>\n",
       "      <td>72.301278</td>\n",
       "      <td>11360</td>\n",
       "      <td>7928</td>\n",
       "      <td>7896</td>\n",
       "      <td>0</td>\n",
       "      <td>7928</td>\n",
       "      <td>7840</td>\n",
       "    </tr>\n",
       "    <tr>\n",
       "      <th>1345</th>\n",
       "      <td>32.6250</td>\n",
       "      <td>71.403160</td>\n",
       "      <td>11376</td>\n",
       "      <td>7920</td>\n",
       "      <td>7904</td>\n",
       "      <td>1</td>\n",
       "      <td>7928</td>\n",
       "      <td>7840</td>\n",
       "    </tr>\n",
       "    <tr>\n",
       "      <th>1346</th>\n",
       "      <td>32.6250</td>\n",
       "      <td>71.403160</td>\n",
       "      <td>11584</td>\n",
       "      <td>7888</td>\n",
       "      <td>7920</td>\n",
       "      <td>1</td>\n",
       "      <td>7928</td>\n",
       "      <td>7840</td>\n",
       "    </tr>\n",
       "    <tr>\n",
       "      <th>1347</th>\n",
       "      <td>32.5000</td>\n",
       "      <td>71.403160</td>\n",
       "      <td>11376</td>\n",
       "      <td>7928</td>\n",
       "      <td>7920</td>\n",
       "      <td>1</td>\n",
       "      <td>7928</td>\n",
       "      <td>7840</td>\n",
       "    </tr>\n",
       "  </tbody>\n",
       "</table>\n",
       "</div>"
      ],
      "text/plain": [
       "         temp        bpm    red   adc   med  trig   max   min\n",
       "1338  33.5625  72.301278  11584  7872  7880     0  7928  7840\n",
       "1339  33.4375  72.301278  11376  7880  7880     0  7928  7840\n",
       "1340  33.4375  72.301278  11392  7896  7880     0  7928  7840\n",
       "1341  33.0000  72.301278  11376  7896  7888     0  7928  7840\n",
       "1342  33.0000  72.301278  11368  7904  7896     0  7928  7840\n",
       "1343  34.0625  72.301278  11392  7920  7896     0  7928  7840\n",
       "1344  34.0625  72.301278  11360  7928  7896     0  7928  7840\n",
       "1345  32.6250  71.403160  11376  7920  7904     1  7928  7840\n",
       "1346  32.6250  71.403160  11584  7888  7920     1  7928  7840\n",
       "1347  32.5000  71.403160  11376  7928  7920     1  7928  7840"
      ]
     },
     "execution_count": 25,
     "metadata": {},
     "output_type": "execute_result"
    }
   ],
   "source": [
    "df = pd.read_csv('pulse_max30100.csv')\n",
    "df.tail(10)"
   ]
  },
  {
   "cell_type": "code",
   "execution_count": 26,
   "metadata": {},
   "outputs": [
    {
     "data": {
      "text/plain": [
       "(0, 150)"
      ]
     },
     "execution_count": 26,
     "metadata": {},
     "output_type": "execute_result"
    },
    {
     "data": {
      "image/png": "[encoded data removed]",
      "text/plain": [
       "<matplotlib.figure.Figure at 0x7f0061cff320>"
      ]
     },
     "metadata": {},
     "output_type": "display_data"
    },
    {
     "data": {
      "image/png": "[encoded data removed]",
      "text/plain": [
       "<matplotlib.figure.Figure at 0x7f0061ee18d0>"
      ]
     },
     "metadata": {},
     "output_type": "display_data"
    }
   ],
   "source": [
    "df[['min','adc','med','max']].plot()\n",
    "df['trig'].plot.area(secondary_y=True,alpha=.1)\n",
    "df[['trig','bpm','temp']].plot(secondary_y=True)\n",
    "plt.gca().set_ylim([0,150])"
   ]
  },
  {
   "cell_type": "code",
   "execution_count": 27,
   "metadata": {},
   "outputs": [
    {
     "data": {
      "text/plain": [
       "'/home/olivier/workplace/max30100/notebooks'"
      ]
     },
     "execution_count": 27,
     "metadata": {},
     "output_type": "execute_result"
    }
   ],
   "source": [
    "pwd"
   ]
  },
  {
   "cell_type": "code",
   "execution_count": null,
   "metadata": {},
   "outputs": [],
   "source": []
  },
  {
   "cell_type": "code",
   "execution_count": null,
   "metadata": {},
   "outputs": [],
   "source": []
  }
 ],
 "metadata": {
  "kernelspec": {
   "display_name": "Python (py3)",
   "language": "python",
   "name": "py3"
  },
  "language_info": {
   "codemirror_mode": {
    "name": "ipython",
    "version": 3
   },
   "file_extension": ".py",
   "mimetype": "text/x-python",
   "name": "python",
   "nbconvert_exporter": "python",
   "pygments_lexer": "ipython3",
   "version": "3.6.2"
  }
 },
 "nbformat": 4,
 "nbformat_minor": 2
}
